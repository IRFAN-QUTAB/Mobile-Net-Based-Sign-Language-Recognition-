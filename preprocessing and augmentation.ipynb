{
 "cells": [
  {
   "cell_type": "code",
   "execution_count": null,
   "id": "f377507b",
   "metadata": {},
   "outputs": [],
   "source": [
    "import cv2\n",
    "import os\n",
    "import numpy as np\n",
    "import matplotlib.pyplot as plt\n",
    "import tensorflow as tf\n",
    "from tensorflow.keras.preprocessing.image import ImageDataGenerator"
   ]
  },
  {
   "cell_type": "code",
   "execution_count": null,
   "id": "f0e011c0",
   "metadata": {},
   "outputs": [],
   "source": [
    "\n",
    "from google.colab import drive\n",
    "drive.mount('/content/drive')\n",
    "\n",
    "\n",
    "import os\n",
    "\n",
    "DATASET_PATH = \"/content/drive/MyDrive/ASL_Dataset\"\n",
    "if os.path.exists(DATASET_PATH):\n",
    "    print(\"Dataset found at:\", DATASET_PATH)\n",
    "else:\n",
    "    print(\"Error: Dataset path not found!\")\n"
   ]
  },
  {
   "cell_type": "code",
   "execution_count": null,
   "id": "c4ba2e0d",
   "metadata": {},
   "outputs": [],
   "source": [
    "\n",
    "IMG_HEIGHT, IMG_WIDTH = 224, 224\n",
    "\n",
    "\n",
    "def load_images_from_folder(folder_path):\n",
    "    images = []\n",
    "    labels = []\n",
    "    class_names = sorted(os.listdir(folder_path)) \n",
    "\n",
    "    for label, class_name in enumerate(class_names):\n",
    "        class_folder = os.path.join(folder_path, class_name)\n",
    "        \n",
    "        if os.path.isdir(class_folder): \n",
    "            for file in os.listdir(class_folder):\n",
    "                img_path = os.path.join(class_folder, file)\n",
    "                try:\n",
    "                    img = cv2.imread(img_path) \n",
    "                    img = cv2.cvtColor(img, cv2.COLOR_BGR2RGB)  \n",
    "                    img = cv2.resize(img, (IMG_WIDTH, IMG_HEIGHT))\n",
    "                    images.append(img)\n",
    "                    labels.append(label)\n",
    "                except Exception as e:\n",
    "                    print(f\"Error loading image {img_path}: {e}\")\n",
    "\n",
    "    return np.array(images), np.array(labels), class_names\n",
    "\n",
    "images, labels, class_names = load_images_from_folder(DATASET_PATH)\n",
    "print(f\"Loaded {len(images)} images from {len(class_names)} classes.\")\n"
   ]
  },
  {
   "cell_type": "code",
   "execution_count": null,
   "id": "ae0ad57a",
   "metadata": {},
   "outputs": [],
   "source": [
    "def remove_no_sign_images(images, labels):\n",
    "    filtered_images = []\n",
    "    filtered_labels = []\n",
    "\n",
    "    for i, img in enumerate(images):\n",
    "        gray = cv2.cvtColor(img, cv2.COLOR_RGB2GRAY) \n",
    "        edges = cv2.Canny(gray, 50, 150)\n",
    "\n",
    "     \n",
    "        if np.sum(edges) > 10000:  \n",
    "            filtered_images.append(img)\n",
    "            filtered_labels.append(labels[i])\n",
    "\n",
    "    return np.array(filtered_images), np.array(filtered_labels)\n",
    "\n",
    "images, labels = remove_no_sign_images(images, labels)\n",
    "print(f\"Filtered dataset size: {len(images)} images.\")\n"
   ]
  },
  {
   "cell_type": "code",
   "execution_count": null,
   "id": "c2c48ab3",
   "metadata": {},
   "outputs": [],
   "source": [
    "def augment_images(images):\n",
    "    augmented_images = []\n",
    "    \n",
    "    for img in images:\n",
    "        flipped_h = cv2.flip(img, 1)\n",
    "        flipped_v = cv2.flip(img, 0) \n",
    "        rotated_90 = cv2.rotate(img, cv2.ROTATE_90_CLOCKWISE)\n",
    "\n",
    "        augmented_images.extend([img, flipped_h, flipped_v, rotated_90])\n",
    "    \n",
    "    return np.array(augmented_images)\n",
    "\n",
    "augmented_images = augment_images(images)\n",
    "print(f\"Total augmented images: {len(augmented_images)}\")\n"
   ]
  },
  {
   "cell_type": "code",
   "execution_count": null,
   "id": "7d40fbba",
   "metadata": {},
   "outputs": [],
   "source": [
    "\n",
    "fig, axes = plt.subplots(1, 4, figsize=(12, 4))\n",
    "axes[0].imshow(images[0])\n",
    "axes[0].set_title(\"Original\")\n",
    "axes[1].imshow(cv2.flip(images[0], 1))\n",
    "axes[1].set_title(\"Flipped Horizontal\")\n",
    "axes[2].imshow(cv2.flip(images[0], 0))\n",
    "axes[2].set_title(\"Flipped Vertical\")\n",
    "axes[3].imshow(cv2.rotate(images[0], cv2.ROTATE_90_CLOCKWISE))\n",
    "axes[3].set_title(\"Rotated 90°\")\n",
    "\n",
    "for ax in axes:\n",
    "    ax.axis('off')\n",
    "plt.show()\n"
   ]
  },
  {
   "cell_type": "code",
   "execution_count": null,
   "id": "9ebe3b4a",
   "metadata": {},
   "outputs": [],
   "source": []
  }
 ],
 "metadata": {
  "kernelspec": {
   "display_name": "Python 3 (ipykernel)",
   "language": "python",
   "name": "python3"
  },
  "language_info": {
   "codemirror_mode": {
    "name": "ipython",
    "version": 3
   },
   "file_extension": ".py",
   "mimetype": "text/x-python",
   "name": "python",
   "nbconvert_exporter": "python",
   "pygments_lexer": "ipython3",
   "version": "3.9.16"
  }
 },
 "nbformat": 4,
 "nbformat_minor": 5
}
